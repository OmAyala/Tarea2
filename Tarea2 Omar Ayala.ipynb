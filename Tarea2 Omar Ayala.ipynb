{
 "cells": [
  {
   "cell_type": "markdown",
   "id": "3d9b961c",
   "metadata": {},
   "source": [
    "# Tarea 2 IMA-602\n",
    "#### Omar Ayala Aguayo\n",
    "\n",
    "## Parte 1"
   ]
  },
  {
   "cell_type": "code",
   "execution_count": 19,
   "id": "a93eb05b",
   "metadata": {},
   "outputs": [],
   "source": [
    "def ahorro_auto(salario_mensual, proporcion_ahorrada, costo_auto):\n",
    "    proporcion_pago_inicial=0.2\n",
    "    ahorro_actual=0\n",
    "    pie=proporcion_pago_inicial*costo_auto\n",
    "    meses=0\n",
    "    while ahorro_actual<pie:\n",
    "        ahorro_actual=ahorro_actual+salario_mensual*proporcion_ahorrada\n",
    "        meses+=1\n",
    "\n",
    "    print(f\"Salario mensual: \\t {salario_mensual} \\n Porcentaje del salario mensual a ahorrar: \\t {proporcion_ahorrada} \\n Costo del auto de mis sueños: \\t {costo_auto} \\n Número de meses que debo ahorrar: \\t {meses} \")"
   ]
  },
  {
   "cell_type": "code",
   "execution_count": 22,
   "id": "289c626d",
   "metadata": {},
   "outputs": [
    {
     "name": "stdout",
     "output_type": "stream",
     "text": [
      "Salario mensual: \t 1200000.0 \n",
      " Porcentaje del salario mensual a ahorrar: \t 0.1 \n",
      " Costo del auto de mis sueños: \t 10000000 \n",
      " Número de meses que debo ahorrar: \t 17 \n"
     ]
    }
   ],
   "source": [
    "ahorro_auto(1.2*10**6,0.1,10**7)"
   ]
  },
  {
   "cell_type": "code",
   "execution_count": 23,
   "id": "543f41ab",
   "metadata": {},
   "outputs": [
    {
     "name": "stdout",
     "output_type": "stream",
     "text": [
      "Salario mensual: \t 1000000 \n",
      " Porcentaje del salario mensual a ahorrar: \t 0.2 \n",
      " Costo del auto de mis sueños: \t 20000000 \n",
      " Número de meses que debo ahorrar: \t 20 \n"
     ]
    }
   ],
   "source": [
    "ahorro_auto(10**6,0.2,2*10**7)"
   ]
  },
  {
   "cell_type": "code",
   "execution_count": 24,
   "id": "e40aef28",
   "metadata": {},
   "outputs": [
    {
     "name": "stdout",
     "output_type": "stream",
     "text": [
      "Salario mensual: \t 1700000.0 \n",
      " Porcentaje del salario mensual a ahorrar: \t 0.4 \n",
      " Costo del auto de mis sueños: \t 20000000 \n",
      " Número de meses que debo ahorrar: \t 6 \n"
     ]
    }
   ],
   "source": [
    "ahorro_auto(1.7*10**6,0.4,2*10**7)"
   ]
  },
  {
   "cell_type": "markdown",
   "id": "20b2fdfa",
   "metadata": {},
   "source": [
    "## Parte 2"
   ]
  },
  {
   "cell_type": "code",
   "execution_count": 20,
   "id": "423ef6db",
   "metadata": {},
   "outputs": [],
   "source": [
    "def ahorro_auto_inv(salario_mensual, proporcion_ahorrada, costo_auto):\n",
    "    proporcion_pago_inicial=0.2\n",
    "    ahorro_actual=0\n",
    "    pie=proporcion_pago_inicial*costo_auto\n",
    "    meses=0\n",
    "    r=0.1\n",
    "    inversion=0\n",
    "    \n",
    "    while ahorro_actual<pie:\n",
    "        for i in range(meses):\n",
    "            inversion=ahorro_actual*r\n",
    "        ahorro_actual=ahorro_actual+salario_mensual*proporcion_ahorrada+inversion\n",
    "        meses+=1\n",
    "\n",
    "    print(f\"Salario mensual: \\t {salario_mensual} \\n Porcentaje del salario mensual a ahorrar: \\t {proporcion_ahorrada} \\n Costo del auto de mis sueños: \\t {costo_auto} \\n Número de meses que debo ahorrar: \\t {meses} \")"
   ]
  },
  {
   "cell_type": "code",
   "execution_count": 25,
   "id": "ee5f19a8",
   "metadata": {},
   "outputs": [
    {
     "name": "stdout",
     "output_type": "stream",
     "text": [
      "Salario mensual: \t 1200000.0 \n",
      " Porcentaje del salario mensual a ahorrar: \t 0.1 \n",
      " Costo del auto de mis sueños: \t 10000000 \n",
      " Número de meses que debo ahorrar: \t 11 \n"
     ]
    }
   ],
   "source": [
    "ahorro_auto_inv(1.2*10**6,0.1,10**7)"
   ]
  },
  {
   "cell_type": "code",
   "execution_count": 26,
   "id": "92d764d7",
   "metadata": {},
   "outputs": [
    {
     "name": "stdout",
     "output_type": "stream",
     "text": [
      "Salario mensual: \t 1000000 \n",
      " Porcentaje del salario mensual a ahorrar: \t 0.2 \n",
      " Costo del auto de mis sueños: \t 20000000 \n",
      " Número de meses que debo ahorrar: \t 12 \n"
     ]
    }
   ],
   "source": [
    "ahorro_auto_inv(10**6,0.2,2*10**7)"
   ]
  },
  {
   "cell_type": "code",
   "execution_count": 27,
   "id": "158b28e6",
   "metadata": {},
   "outputs": [
    {
     "name": "stdout",
     "output_type": "stream",
     "text": [
      "Salario mensual: \t 1700000.0 \n",
      " Porcentaje del salario mensual a ahorrar: \t 0.4 \n",
      " Costo del auto de mis sueños: \t 20000000 \n",
      " Número de meses que debo ahorrar: \t 5 \n"
     ]
    }
   ],
   "source": [
    "ahorro_auto_inv(1.7*10**6,0.4,2*10**7)"
   ]
  },
  {
   "cell_type": "markdown",
   "id": "2d234844",
   "metadata": {},
   "source": [
    "## Parte 3"
   ]
  },
  {
   "cell_type": "code",
   "execution_count": 28,
   "id": "e75df272",
   "metadata": {},
   "outputs": [],
   "source": [
    "def ahorro_auto_aum(salario_mensual, proporcion_ahorrada, costo_auto, proporcion_aumento_salario):\n",
    "    proporcion_pago_inicial=0.2\n",
    "    ahorro_actual=0\n",
    "    pie=proporcion_pago_inicial*costo_auto\n",
    "    meses=0\n",
    "    r=0.1\n",
    "    inversion=0\n",
    "    \n",
    "    while ahorro_actual<pie:\n",
    "        for i in range(meses):\n",
    "            inversion=ahorro_actual*r\n",
    "        ahorro_actual=ahorro_actual+salario_mensual*proporcion_ahorrada+inversion\n",
    "        meses+=1\n",
    "        if meses%6==0:\n",
    "            salario_mensual=salario_mensual+salario_mensual*proporcion_aumento_salario\n",
    "\n",
    "    print(f\"Salario mensual: \\t {salario_mensual} \\n Porcentaje del salario mensual a ahorrar: \\t {proporcion_ahorrada} \\n Costo del auto de mis sueños: \\t {costo_auto} \\n Número de meses que debo ahorrar: \\t {meses} \")"
   ]
  },
  {
   "cell_type": "code",
   "execution_count": 29,
   "id": "336d40b6",
   "metadata": {},
   "outputs": [
    {
     "name": "stdout",
     "output_type": "stream",
     "text": [
      "Salario mensual: \t 1800000.0 \n",
      " Porcentaje del salario mensual a ahorrar: \t 0.1 \n",
      " Costo del auto de mis sueños: \t 10000000 \n",
      " Número de meses que debo ahorrar: \t 10 \n"
     ]
    }
   ],
   "source": [
    "ahorro_auto_aum(1.2*10**6,0.1,10**7,0.5)"
   ]
  },
  {
   "cell_type": "code",
   "execution_count": 30,
   "id": "3d1590cb",
   "metadata": {},
   "outputs": [
    {
     "name": "stdout",
     "output_type": "stream",
     "text": [
      "Salario mensual: \t 1500000.0 \n",
      " Porcentaje del salario mensual a ahorrar: \t 0.2 \n",
      " Costo del auto de mis sueños: \t 20000000 \n",
      " Número de meses que debo ahorrar: \t 11 \n"
     ]
    }
   ],
   "source": [
    "ahorro_auto_aum(10**6,0.2,2*10**7,0.5)"
   ]
  },
  {
   "cell_type": "code",
   "execution_count": 31,
   "id": "853c9785",
   "metadata": {},
   "outputs": [
    {
     "name": "stdout",
     "output_type": "stream",
     "text": [
      "Salario mensual: \t 1700000.0 \n",
      " Porcentaje del salario mensual a ahorrar: \t 0.4 \n",
      " Costo del auto de mis sueños: \t 20000000 \n",
      " Número de meses que debo ahorrar: \t 5 \n"
     ]
    }
   ],
   "source": [
    "ahorro_auto_aum(1.7*10**6,0.4,2*10**7,0.5)"
   ]
  }
 ],
 "metadata": {
  "kernelspec": {
   "display_name": "Python 3 (ipykernel)",
   "language": "python",
   "name": "python3"
  },
  "language_info": {
   "codemirror_mode": {
    "name": "ipython",
    "version": 3
   },
   "file_extension": ".py",
   "mimetype": "text/x-python",
   "name": "python",
   "nbconvert_exporter": "python",
   "pygments_lexer": "ipython3",
   "version": "3.10.9"
  }
 },
 "nbformat": 4,
 "nbformat_minor": 5
}
